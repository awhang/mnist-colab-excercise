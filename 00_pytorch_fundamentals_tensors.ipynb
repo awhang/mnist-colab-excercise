{
  "nbformat": 4,
  "nbformat_minor": 0,
  "metadata": {
    "colab": {
      "provenance": [],
      "toc_visible": true,
      "authorship_tag": "ABX9TyPmvHg3VbBneRatmzDb9iyw",
      "include_colab_link": true
    },
    "kernelspec": {
      "name": "python3",
      "display_name": "Python 3"
    },
    "language_info": {
      "name": "python"
    },
    "gpuClass": "standard",
    "accelerator": "GPU"
  },
  "cells": [
    {
      "cell_type": "markdown",
      "metadata": {
        "id": "view-in-github",
        "colab_type": "text"
      },
      "source": [
        "<a href=\"https://colab.research.google.com/github/awhang/mnist-colab-excercise/blob/main/00_pytorch_fundamentals_tensors.ipynb\" target=\"_parent\"><img src=\"https://colab.research.google.com/assets/colab-badge.svg\" alt=\"Open In Colab\"/></a>"
      ]
    },
    {
      "cell_type": "markdown",
      "source": [
        "# PyTorch Fundamentals\n",
        "An excercise to learn the basics of using PyTorch"
      ],
      "metadata": {
        "id": "S9-kvOclHBnw"
      }
    },
    {
      "cell_type": "code",
      "execution_count": 31,
      "metadata": {
        "id": "E3mk2aQa4Ae5"
      },
      "outputs": [],
      "source": [
        "import torch\n",
        "import pandas as pd\n",
        "import numpy as np\n",
        "import matplotlib.pyplot as plt "
      ]
    },
    {
      "cell_type": "code",
      "source": [
        "!nvidia-smi"
      ],
      "metadata": {
        "colab": {
          "base_uri": "https://localhost:8080/"
        },
        "id": "GowcbambG-nv",
        "outputId": "339d5e14-7756-43b6-b814-4cddc63d8016"
      },
      "execution_count": 32,
      "outputs": [
        {
          "output_type": "stream",
          "name": "stdout",
          "text": [
            "NVIDIA-SMI has failed because it couldn't communicate with the NVIDIA driver. Make sure that the latest NVIDIA driver is installed and running.\n",
            "\n"
          ]
        }
      ]
    },
    {
      "cell_type": "markdown",
      "source": [
        "## Tensor Creation"
      ],
      "metadata": {
        "id": "m56e5aOSHv5C"
      }
    },
    {
      "cell_type": "code",
      "source": [
        "# scalar\n",
        "scalar = torch.tensor(10)\n",
        "scalar"
      ],
      "metadata": {
        "colab": {
          "base_uri": "https://localhost:8080/"
        },
        "id": "hQkLU-l8Hk-8",
        "outputId": "80e34eb0-b7a2-4c42-8f15-e2ff08caaf86"
      },
      "execution_count": 33,
      "outputs": [
        {
          "output_type": "execute_result",
          "data": {
            "text/plain": [
              "tensor(10)"
            ]
          },
          "metadata": {},
          "execution_count": 33
        }
      ]
    },
    {
      "cell_type": "code",
      "source": [
        "scalar.ndim"
      ],
      "metadata": {
        "colab": {
          "base_uri": "https://localhost:8080/"
        },
        "id": "TMLv102sIyiz",
        "outputId": "1fb98c66-2db6-402f-9288-24cb60cabf99"
      },
      "execution_count": 34,
      "outputs": [
        {
          "output_type": "execute_result",
          "data": {
            "text/plain": [
              "0"
            ]
          },
          "metadata": {},
          "execution_count": 34
        }
      ]
    },
    {
      "cell_type": "code",
      "source": [
        "scalar.item()"
      ],
      "metadata": {
        "colab": {
          "base_uri": "https://localhost:8080/"
        },
        "id": "We1fO_ARI0u_",
        "outputId": "493493ef-f098-485a-d756-9bb475f2f4fc"
      },
      "execution_count": 35,
      "outputs": [
        {
          "output_type": "execute_result",
          "data": {
            "text/plain": [
              "10"
            ]
          },
          "metadata": {},
          "execution_count": 35
        }
      ]
    },
    {
      "cell_type": "code",
      "source": [
        "# vector\n",
        "vector = torch.tensor([10, 10])\n",
        "vector"
      ],
      "metadata": {
        "colab": {
          "base_uri": "https://localhost:8080/"
        },
        "id": "FFCq5WRhI2bl",
        "outputId": "dadeb79d-8a05-46d6-85cb-d64d315b2396"
      },
      "execution_count": 36,
      "outputs": [
        {
          "output_type": "execute_result",
          "data": {
            "text/plain": [
              "tensor([10, 10])"
            ]
          },
          "metadata": {},
          "execution_count": 36
        }
      ]
    },
    {
      "cell_type": "code",
      "source": [
        "vector.ndim"
      ],
      "metadata": {
        "colab": {
          "base_uri": "https://localhost:8080/"
        },
        "id": "x1mj9JVAI788",
        "outputId": "a15c4ed3-28ee-4e43-95d2-f1956e9df67d"
      },
      "execution_count": 37,
      "outputs": [
        {
          "output_type": "execute_result",
          "data": {
            "text/plain": [
              "1"
            ]
          },
          "metadata": {},
          "execution_count": 37
        }
      ]
    },
    {
      "cell_type": "code",
      "source": [
        "vector.shape"
      ],
      "metadata": {
        "colab": {
          "base_uri": "https://localhost:8080/"
        },
        "id": "T8FoqTwVI9Jk",
        "outputId": "f73dc5a6-3c26-4248-bc5d-214d4e51dc29"
      },
      "execution_count": 38,
      "outputs": [
        {
          "output_type": "execute_result",
          "data": {
            "text/plain": [
              "torch.Size([2])"
            ]
          },
          "metadata": {},
          "execution_count": 38
        }
      ]
    },
    {
      "cell_type": "code",
      "source": [
        "# MATRIX \n",
        "MATRIX = torch.tensor([[4, 5],\n",
        "                       [6, 7]])\n",
        "MATRIX"
      ],
      "metadata": {
        "colab": {
          "base_uri": "https://localhost:8080/"
        },
        "id": "Wv9OhXqHJLZ3",
        "outputId": "288ce939-c4c3-4961-b314-7cc0b748e81b"
      },
      "execution_count": 39,
      "outputs": [
        {
          "output_type": "execute_result",
          "data": {
            "text/plain": [
              "tensor([[4, 5],\n",
              "        [6, 7]])"
            ]
          },
          "metadata": {},
          "execution_count": 39
        }
      ]
    },
    {
      "cell_type": "code",
      "source": [
        "MATRIX.ndim\n",
        "MATRIX[1]"
      ],
      "metadata": {
        "colab": {
          "base_uri": "https://localhost:8080/"
        },
        "id": "8xOG69FrJXeC",
        "outputId": "c449ec94-d582-40b8-f3a2-008cf6e3e3a0"
      },
      "execution_count": 40,
      "outputs": [
        {
          "output_type": "execute_result",
          "data": {
            "text/plain": [
              "tensor([6, 7])"
            ]
          },
          "metadata": {},
          "execution_count": 40
        }
      ]
    },
    {
      "cell_type": "code",
      "source": [
        "MATRIX.shape"
      ],
      "metadata": {
        "colab": {
          "base_uri": "https://localhost:8080/"
        },
        "id": "kn_kjpihKihM",
        "outputId": "1903f019-3341-406d-a89e-935c48ebc0c1"
      },
      "execution_count": 41,
      "outputs": [
        {
          "output_type": "execute_result",
          "data": {
            "text/plain": [
              "torch.Size([2, 2])"
            ]
          },
          "metadata": {},
          "execution_count": 41
        }
      ]
    },
    {
      "cell_type": "code",
      "source": [
        "# TENSOR\n",
        "TENSOR = torch.tensor([[[1, 2, 3], \n",
        "                        [3, 6, 9], \n",
        "                        [4, 5, 7]],\n",
        "                        [[10, 4, 5],\n",
        "                        [3, 2, 7],\n",
        "                         [12, -1, 3]]])"
      ],
      "metadata": {
        "id": "aVMva2-bKyaQ"
      },
      "execution_count": 42,
      "outputs": []
    },
    {
      "cell_type": "code",
      "source": [
        "TENSOR.ndim"
      ],
      "metadata": {
        "colab": {
          "base_uri": "https://localhost:8080/"
        },
        "id": "STb_FHgmLHKd",
        "outputId": "6e970600-ba6e-401d-b144-e66e0f5de810"
      },
      "execution_count": 43,
      "outputs": [
        {
          "output_type": "execute_result",
          "data": {
            "text/plain": [
              "3"
            ]
          },
          "metadata": {},
          "execution_count": 43
        }
      ]
    },
    {
      "cell_type": "code",
      "source": [
        "TENSOR.shape"
      ],
      "metadata": {
        "colab": {
          "base_uri": "https://localhost:8080/"
        },
        "id": "F5L_9vokLQCw",
        "outputId": "d7f7e672-3250-416e-e55f-fde2efc3457c"
      },
      "execution_count": 44,
      "outputs": [
        {
          "output_type": "execute_result",
          "data": {
            "text/plain": [
              "torch.Size([2, 3, 3])"
            ]
          },
          "metadata": {},
          "execution_count": 44
        }
      ]
    },
    {
      "cell_type": "code",
      "source": [
        "TENSOR[0]"
      ],
      "metadata": {
        "colab": {
          "base_uri": "https://localhost:8080/"
        },
        "id": "uPj34EvmLdUt",
        "outputId": "75eb8cdd-7190-4851-984e-2637ca46fda7"
      },
      "execution_count": 45,
      "outputs": [
        {
          "output_type": "execute_result",
          "data": {
            "text/plain": [
              "tensor([[1, 2, 3],\n",
              "        [3, 6, 9],\n",
              "        [4, 5, 7]])"
            ]
          },
          "metadata": {},
          "execution_count": 45
        }
      ]
    },
    {
      "cell_type": "markdown",
      "source": [
        "### Creating Random Tensors"
      ],
      "metadata": {
        "id": "z5b29VjdL4cN"
      }
    },
    {
      "cell_type": "code",
      "source": [
        "# Create a random tensor of size (4, 5)\n",
        "random_tensor = torch.rand(5, 4, 5)\n",
        "random_tensor"
      ],
      "metadata": {
        "colab": {
          "base_uri": "https://localhost:8080/"
        },
        "id": "dm10sfwwMfc-",
        "outputId": "34b2c0f6-53e6-4ed2-b3b7-f6b29d704100"
      },
      "execution_count": 46,
      "outputs": [
        {
          "output_type": "execute_result",
          "data": {
            "text/plain": [
              "tensor([[[0.7771, 0.7466, 0.9289, 0.3953, 0.1955],\n",
              "         [0.9346, 0.5613, 0.8780, 0.3281, 0.2727],\n",
              "         [0.7604, 0.7940, 0.3693, 0.0702, 0.8067],\n",
              "         [0.1335, 0.6871, 0.6330, 0.8418, 0.9302]],\n",
              "\n",
              "        [[0.6269, 0.7153, 0.2140, 0.9890, 0.7773],\n",
              "         [0.0316, 0.0018, 0.7730, 0.3657, 0.8520],\n",
              "         [0.3097, 0.1773, 0.7718, 0.2642, 0.7776],\n",
              "         [0.2082, 0.6155, 0.2438, 0.6528, 0.4068]],\n",
              "\n",
              "        [[0.2112, 0.1751, 0.2014, 0.0080, 0.4574],\n",
              "         [0.4661, 0.3642, 0.5427, 0.0810, 0.8515],\n",
              "         [0.1564, 0.4928, 0.3317, 0.6019, 0.5420],\n",
              "         [0.9538, 0.2985, 0.6911, 0.8424, 0.2199]],\n",
              "\n",
              "        [[0.7535, 0.3011, 0.4579, 0.6241, 0.6938],\n",
              "         [0.2320, 0.7930, 0.4068, 0.0838, 0.2244],\n",
              "         [0.3166, 0.3790, 0.8329, 0.4120, 0.7386],\n",
              "         [0.1472, 0.1833, 0.9468, 0.2766, 0.3642]],\n",
              "\n",
              "        [[0.1162, 0.1512, 0.6741, 0.8506, 0.2580],\n",
              "         [0.1436, 0.2372, 0.4232, 0.9159, 0.1513],\n",
              "         [0.1245, 0.3271, 0.8639, 0.0133, 0.7247],\n",
              "         [0.6213, 0.1210, 0.8268, 0.7053, 0.1702]]])"
            ]
          },
          "metadata": {},
          "execution_count": 46
        }
      ]
    },
    {
      "cell_type": "code",
      "source": [
        "random_tensor.ndim"
      ],
      "metadata": {
        "colab": {
          "base_uri": "https://localhost:8080/"
        },
        "id": "_KwdNZihNLCC",
        "outputId": "6ce2cba9-dcb4-4e7e-918b-6bc234d42ed7"
      },
      "execution_count": 47,
      "outputs": [
        {
          "output_type": "execute_result",
          "data": {
            "text/plain": [
              "3"
            ]
          },
          "metadata": {},
          "execution_count": 47
        }
      ]
    },
    {
      "cell_type": "code",
      "source": [
        "# Creating a random tensor similar shape to an image tensor\n",
        "random_image_size_tensor = torch.rand(size=(224, 224, 3)) # heigh, width, color channel RGB\n",
        "random_image_size_tensor.shape, random_image_size_tensor.ndim"
      ],
      "metadata": {
        "colab": {
          "base_uri": "https://localhost:8080/"
        },
        "id": "qno-kNyxNVTb",
        "outputId": "afbfd7ab-76ab-4dae-fa68-151f7a06013e"
      },
      "execution_count": 48,
      "outputs": [
        {
          "output_type": "execute_result",
          "data": {
            "text/plain": [
              "(torch.Size([224, 224, 3]), 3)"
            ]
          },
          "metadata": {},
          "execution_count": 48
        }
      ]
    },
    {
      "cell_type": "code",
      "source": [
        "# Creating a tensor of all zeros\n",
        "zeros = torch.zeros(size=(4, 5))\n",
        "zeros"
      ],
      "metadata": {
        "colab": {
          "base_uri": "https://localhost:8080/"
        },
        "id": "kf6ljTsrN8cu",
        "outputId": "ed8b131c-9d14-4dc9-dcb0-e044c1fdddf6"
      },
      "execution_count": 49,
      "outputs": [
        {
          "output_type": "execute_result",
          "data": {
            "text/plain": [
              "tensor([[0., 0., 0., 0., 0.],\n",
              "        [0., 0., 0., 0., 0.],\n",
              "        [0., 0., 0., 0., 0.],\n",
              "        [0., 0., 0., 0., 0.]])"
            ]
          },
          "metadata": {},
          "execution_count": 49
        }
      ]
    },
    {
      "cell_type": "code",
      "source": [
        "zeros*random_tensor"
      ],
      "metadata": {
        "colab": {
          "base_uri": "https://localhost:8080/"
        },
        "id": "NMkDWyxjOKoE",
        "outputId": "5ea2895a-14a7-4308-ca32-7625e2b0c0a3"
      },
      "execution_count": 50,
      "outputs": [
        {
          "output_type": "execute_result",
          "data": {
            "text/plain": [
              "tensor([[[0., 0., 0., 0., 0.],\n",
              "         [0., 0., 0., 0., 0.],\n",
              "         [0., 0., 0., 0., 0.],\n",
              "         [0., 0., 0., 0., 0.]],\n",
              "\n",
              "        [[0., 0., 0., 0., 0.],\n",
              "         [0., 0., 0., 0., 0.],\n",
              "         [0., 0., 0., 0., 0.],\n",
              "         [0., 0., 0., 0., 0.]],\n",
              "\n",
              "        [[0., 0., 0., 0., 0.],\n",
              "         [0., 0., 0., 0., 0.],\n",
              "         [0., 0., 0., 0., 0.],\n",
              "         [0., 0., 0., 0., 0.]],\n",
              "\n",
              "        [[0., 0., 0., 0., 0.],\n",
              "         [0., 0., 0., 0., 0.],\n",
              "         [0., 0., 0., 0., 0.],\n",
              "         [0., 0., 0., 0., 0.]],\n",
              "\n",
              "        [[0., 0., 0., 0., 0.],\n",
              "         [0., 0., 0., 0., 0.],\n",
              "         [0., 0., 0., 0., 0.],\n",
              "         [0., 0., 0., 0., 0.]]])"
            ]
          },
          "metadata": {},
          "execution_count": 50
        }
      ]
    },
    {
      "cell_type": "code",
      "source": [
        "# Creating a tensor of all ones\n",
        "ones = torch.ones(size=(4, 5), dtype=(torch.int8))\n",
        "ones"
      ],
      "metadata": {
        "colab": {
          "base_uri": "https://localhost:8080/"
        },
        "id": "Z2LGTZ_AOb3o",
        "outputId": "5a8cdb0d-c7e7-4294-a0cf-a411993306c9"
      },
      "execution_count": 51,
      "outputs": [
        {
          "output_type": "execute_result",
          "data": {
            "text/plain": [
              "tensor([[1, 1, 1, 1, 1],\n",
              "        [1, 1, 1, 1, 1],\n",
              "        [1, 1, 1, 1, 1],\n",
              "        [1, 1, 1, 1, 1]], dtype=torch.int8)"
            ]
          },
          "metadata": {},
          "execution_count": 51
        }
      ]
    },
    {
      "cell_type": "code",
      "source": [
        "ones.dtype"
      ],
      "metadata": {
        "colab": {
          "base_uri": "https://localhost:8080/"
        },
        "id": "OLd4w36pPBGZ",
        "outputId": "ae11c1b3-8d02-46c3-a4a3-ed1fca85edee"
      },
      "execution_count": 52,
      "outputs": [
        {
          "output_type": "execute_result",
          "data": {
            "text/plain": [
              "torch.int8"
            ]
          },
          "metadata": {},
          "execution_count": 52
        }
      ]
    },
    {
      "cell_type": "markdown",
      "source": [
        "### Creating a range of tensors and tensors-like"
      ],
      "metadata": {
        "id": "88M5eGh7PrfJ"
      }
    },
    {
      "cell_type": "code",
      "source": [
        "# Use torch.arange()\n",
        "\n",
        "one_to_ten = torch.arange(start=0, end=11, step=1)\n",
        "one_to_ten"
      ],
      "metadata": {
        "colab": {
          "base_uri": "https://localhost:8080/"
        },
        "id": "WeRvEqwePCjO",
        "outputId": "afb6d99b-edfd-479e-cc43-b91cbadcad9a"
      },
      "execution_count": 53,
      "outputs": [
        {
          "output_type": "execute_result",
          "data": {
            "text/plain": [
              "tensor([ 0,  1,  2,  3,  4,  5,  6,  7,  8,  9, 10])"
            ]
          },
          "metadata": {},
          "execution_count": 53
        }
      ]
    },
    {
      "cell_type": "code",
      "source": [
        "# Creating tensors like\n",
        "ten_zeros = torch.zeros_like(input=one_to_ten)\n",
        "ten_zeros"
      ],
      "metadata": {
        "colab": {
          "base_uri": "https://localhost:8080/"
        },
        "id": "2yN5Ge7UPo8u",
        "outputId": "b3255998-6f21-455f-903e-61c1f5526f34"
      },
      "execution_count": 54,
      "outputs": [
        {
          "output_type": "execute_result",
          "data": {
            "text/plain": [
              "tensor([0, 0, 0, 0, 0, 0, 0, 0, 0, 0, 0])"
            ]
          },
          "metadata": {},
          "execution_count": 54
        }
      ]
    },
    {
      "cell_type": "markdown",
      "source": [
        "### Tensor Datatypes\n",
        "\n",
        "Tensor datatypes are one of the biggest issues you run into when using PyTorch and deep learning.\n",
        "\n",
        "1. Incorrect datatype - to get datatype, can use `tensor.dtype`\n",
        "2. Incorrect shape - to get shape, cna use `tensor.shape`\n",
        "3. Not on the correct device - to get device, can use `tensor.device`"
      ],
      "metadata": {
        "id": "-lKj1jUfQRcP"
      }
    },
    {
      "cell_type": "code",
      "source": [
        "# Float 32 tensor\n",
        "float_32_tensor = torch.tensor([3.0, 6.0, 9.0],\n",
        "                               dtype=torch.float16, # what datatype the tensor is (e.g. int8, float64, etc)\n",
        "                               device=None,\n",
        "                               requires_grad=False)\n",
        "float_32_tensor"
      ],
      "metadata": {
        "colab": {
          "base_uri": "https://localhost:8080/"
        },
        "id": "_Y8-rYyFQUBE",
        "outputId": "8c8102b9-e99c-4a7f-8cf8-2e91859544da"
      },
      "execution_count": 55,
      "outputs": [
        {
          "output_type": "execute_result",
          "data": {
            "text/plain": [
              "tensor([3., 6., 9.], dtype=torch.float16)"
            ]
          },
          "metadata": {},
          "execution_count": 55
        }
      ]
    },
    {
      "cell_type": "code",
      "source": [
        "float_32_tensor.dtype"
      ],
      "metadata": {
        "colab": {
          "base_uri": "https://localhost:8080/"
        },
        "id": "f-R1hRh7Qdu_",
        "outputId": "142777dd-3aed-4265-be51-98aa0fbd798e"
      },
      "execution_count": 56,
      "outputs": [
        {
          "output_type": "execute_result",
          "data": {
            "text/plain": [
              "torch.float16"
            ]
          },
          "metadata": {},
          "execution_count": 56
        }
      ]
    },
    {
      "cell_type": "code",
      "source": [
        "float_16_tensor = float_32_tensor.type(torch.float16)\n",
        "float_16_tensor"
      ],
      "metadata": {
        "colab": {
          "base_uri": "https://localhost:8080/"
        },
        "id": "MtkeYE14lHWS",
        "outputId": "2b200283-863e-41e6-d9ad-d999bbc1acf2"
      },
      "execution_count": 58,
      "outputs": [
        {
          "output_type": "execute_result",
          "data": {
            "text/plain": [
              "tensor([3., 6., 9.], dtype=torch.float16)"
            ]
          },
          "metadata": {},
          "execution_count": 58
        }
      ]
    },
    {
      "cell_type": "code",
      "source": [
        "float_16_tensor * float_32_tensor"
      ],
      "metadata": {
        "colab": {
          "base_uri": "https://localhost:8080/"
        },
        "id": "otpj4WkTllGn",
        "outputId": "dc5a062c-9453-4934-fb6b-aca2df6d706a"
      },
      "execution_count": 59,
      "outputs": [
        {
          "output_type": "execute_result",
          "data": {
            "text/plain": [
              "tensor([ 9., 36., 81.], dtype=torch.float16)"
            ]
          },
          "metadata": {},
          "execution_count": 59
        }
      ]
    },
    {
      "cell_type": "code",
      "source": [
        "int_32_tensor = torch.tensor([3, 6, 9], dtype= torch.int32)\n",
        "int_32_tensor"
      ],
      "metadata": {
        "colab": {
          "base_uri": "https://localhost:8080/"
        },
        "id": "QuH0-WXtlnfo",
        "outputId": "1560b7f6-b3ae-4381-e453-d26964371950"
      },
      "execution_count": 60,
      "outputs": [
        {
          "output_type": "execute_result",
          "data": {
            "text/plain": [
              "tensor([3, 6, 9], dtype=torch.int32)"
            ]
          },
          "metadata": {},
          "execution_count": 60
        }
      ]
    },
    {
      "cell_type": "code",
      "source": [
        "float_32_tensor * int_32_tensor"
      ],
      "metadata": {
        "colab": {
          "base_uri": "https://localhost:8080/"
        },
        "id": "BikE3ToZls56",
        "outputId": "ef3af5e0-0d8f-402b-8297-0a12e3af335c"
      },
      "execution_count": 61,
      "outputs": [
        {
          "output_type": "execute_result",
          "data": {
            "text/plain": [
              "tensor([ 9., 36., 81.], dtype=torch.float16)"
            ]
          },
          "metadata": {},
          "execution_count": 61
        }
      ]
    },
    {
      "cell_type": "code",
      "source": [
        "# Create a tensor\n",
        "some_tensor = torch.rand(5, 6)\n",
        "some_tensor"
      ],
      "metadata": {
        "colab": {
          "base_uri": "https://localhost:8080/"
        },
        "id": "gAm-_SaYmA95",
        "outputId": "c0a02339-b64f-437e-9ec3-6784d9195c3e"
      },
      "execution_count": 62,
      "outputs": [
        {
          "output_type": "execute_result",
          "data": {
            "text/plain": [
              "tensor([[0.5407, 0.0061, 0.5161, 0.0421, 0.9816, 0.1441],\n",
              "        [0.1078, 0.3454, 0.7797, 0.6090, 0.3795, 0.5083],\n",
              "        [0.8630, 0.8866, 0.2404, 0.1713, 0.5816, 0.8743],\n",
              "        [0.5686, 0.8823, 0.1751, 0.5070, 0.8986, 0.6935],\n",
              "        [0.4573, 0.9910, 0.6167, 0.9442, 0.7817, 0.6753]])"
            ]
          },
          "metadata": {},
          "execution_count": 62
        }
      ]
    },
    {
      "cell_type": "code",
      "source": [
        "# Find out some details about some tensor\n",
        "print(some_tensor)\n",
        "print(f\"Datatype of tensor: {some_tensor.dtype}\")\n",
        "print(f\"Shape of tensor: {some_tensor.shape}\")\n",
        "print(f\"Device of tensor: {some_tensor.device}\")"
      ],
      "metadata": {
        "colab": {
          "base_uri": "https://localhost:8080/"
        },
        "id": "YrfxsnlRmWkK",
        "outputId": "471d449b-7e11-4f7a-8c71-1ec8f912b780"
      },
      "execution_count": 63,
      "outputs": [
        {
          "output_type": "stream",
          "name": "stdout",
          "text": [
            "tensor([[0.5407, 0.0061, 0.5161, 0.0421, 0.9816, 0.1441],\n",
            "        [0.1078, 0.3454, 0.7797, 0.6090, 0.3795, 0.5083],\n",
            "        [0.8630, 0.8866, 0.2404, 0.1713, 0.5816, 0.8743],\n",
            "        [0.5686, 0.8823, 0.1751, 0.5070, 0.8986, 0.6935],\n",
            "        [0.4573, 0.9910, 0.6167, 0.9442, 0.7817, 0.6753]])\n",
            "Datatype of tensor: torch.float32\n",
            "Shape of tensor: torch.Size([5, 6])\n",
            "Device of tensor: cpu\n"
          ]
        }
      ]
    },
    {
      "cell_type": "markdown",
      "source": [
        "## Tensor Operations\n",
        "\n",
        "Tensor operations includE:\n",
        "* Addition\n",
        "* Subtraction\n",
        "* Multiplication (element-wise)\n",
        "* Division\n",
        "* Matrix Multiplication"
      ],
      "metadata": {
        "id": "jfOOJL-4nQmK"
      }
    },
    {
      "cell_type": "code",
      "source": [
        "# Create a tensor and add 3 to it\n",
        "tensor = torch.tensor([1, 2, 3])\n",
        "tensor + 3"
      ],
      "metadata": {
        "colab": {
          "base_uri": "https://localhost:8080/"
        },
        "id": "_r4fPVzBnSpz",
        "outputId": "fcb4e34c-61b0-4d9d-8c31-2c04d548fa66"
      },
      "execution_count": 67,
      "outputs": [
        {
          "output_type": "execute_result",
          "data": {
            "text/plain": [
              "tensor([4, 5, 6])"
            ]
          },
          "metadata": {},
          "execution_count": 67
        }
      ]
    },
    {
      "cell_type": "code",
      "source": [
        "# Multiply tensor by 3\n",
        "tensor * 3"
      ],
      "metadata": {
        "colab": {
          "base_uri": "https://localhost:8080/"
        },
        "id": "RHiaem-znbW4",
        "outputId": "1095be40-38b2-4dfa-a28e-c3b9fa069a6e"
      },
      "execution_count": 68,
      "outputs": [
        {
          "output_type": "execute_result",
          "data": {
            "text/plain": [
              "tensor([3, 6, 9])"
            ]
          },
          "metadata": {},
          "execution_count": 68
        }
      ]
    },
    {
      "cell_type": "code",
      "source": [
        "# Subtract tensor by 3\n",
        "tensor - 3"
      ],
      "metadata": {
        "colab": {
          "base_uri": "https://localhost:8080/"
        },
        "id": "egIts0FpngYa",
        "outputId": "d04630ab-618b-46ae-f05c-c3d594e7141d"
      },
      "execution_count": 69,
      "outputs": [
        {
          "output_type": "execute_result",
          "data": {
            "text/plain": [
              "tensor([-2, -1,  0])"
            ]
          },
          "metadata": {},
          "execution_count": 69
        }
      ]
    },
    {
      "cell_type": "code",
      "source": [
        "# Try PyTorch in-built functions\n",
        "torch.mul(tensor, 3)"
      ],
      "metadata": {
        "colab": {
          "base_uri": "https://localhost:8080/"
        },
        "id": "fWwLOk5znj2D",
        "outputId": "368620eb-5e15-40e9-f59d-e429578a2d26"
      },
      "execution_count": 70,
      "outputs": [
        {
          "output_type": "execute_result",
          "data": {
            "text/plain": [
              "tensor([3, 6, 9])"
            ]
          },
          "metadata": {},
          "execution_count": 70
        }
      ]
    },
    {
      "cell_type": "markdown",
      "source": [
        "### Matrix Multiplication (scalar and dot product)\n",
        "\n",
        "Two main ways of performing multiplication in neural networks and deep learning:\n",
        "1. Scalar (Element-wise multiplication)\n",
        "2. Dot product"
      ],
      "metadata": {
        "id": "8t9KM3VZn2A4"
      }
    },
    {
      "cell_type": "code",
      "source": [
        "# Scalar\n",
        "print(f\"{tensor} * {tensor} equals = {tensor * tensor}\")"
      ],
      "metadata": {
        "colab": {
          "base_uri": "https://localhost:8080/"
        },
        "id": "6_495IyYoINs",
        "outputId": "92d7b4bd-211f-4d8c-d19e-12854cc421eb"
      },
      "execution_count": 71,
      "outputs": [
        {
          "output_type": "stream",
          "name": "stdout",
          "text": [
            "tensor([1, 2, 3]) * tensor([1, 2, 3]) equals = tensor([1, 4, 9])\n"
          ]
        }
      ]
    },
    {
      "cell_type": "code",
      "source": [
        "# Dot Product\n",
        "print(f\"{tensor} dot {tensor} equals = {torch.matmul(tensor, tensor)}\")"
      ],
      "metadata": {
        "colab": {
          "base_uri": "https://localhost:8080/"
        },
        "id": "oTbXY7eWoa1P",
        "outputId": "ba020a0d-0a06-4593-f704-ffa3cf8f8956"
      },
      "execution_count": 73,
      "outputs": [
        {
          "output_type": "stream",
          "name": "stdout",
          "text": [
            "tensor([1, 2, 3]) dot tensor([1, 2, 3]) equals = 14\n"
          ]
        }
      ]
    },
    {
      "cell_type": "markdown",
      "source": [
        "### Finding the min, max, mean, sum, etc"
      ],
      "metadata": {
        "id": "4oCRiBjYpHK3"
      }
    },
    {
      "cell_type": "code",
      "source": [
        "# Create a tensor\n",
        "x = torch.arange(1, 102, 10)\n",
        "x"
      ],
      "metadata": {
        "colab": {
          "base_uri": "https://localhost:8080/"
        },
        "id": "Mu-Z3jbBpJ6Q",
        "outputId": "e934afee-e1c2-4b87-93b9-690d2a551365"
      },
      "execution_count": 93,
      "outputs": [
        {
          "output_type": "execute_result",
          "data": {
            "text/plain": [
              "tensor([  1,  11,  21,  31,  41,  51,  61,  71,  81,  91, 101])"
            ]
          },
          "metadata": {},
          "execution_count": 93
        }
      ]
    },
    {
      "cell_type": "code",
      "source": [
        "# Find the min\n",
        "torch.min(x), x.min()"
      ],
      "metadata": {
        "colab": {
          "base_uri": "https://localhost:8080/"
        },
        "id": "ufx9mKhSpO5a",
        "outputId": "ec9dd6d6-2ff3-4edc-87b2-cfe4ebf05925"
      },
      "execution_count": 77,
      "outputs": [
        {
          "output_type": "execute_result",
          "data": {
            "text/plain": [
              "(tensor(0), tensor(0))"
            ]
          },
          "metadata": {},
          "execution_count": 77
        }
      ]
    },
    {
      "cell_type": "code",
      "source": [
        "# Find the max\n",
        "torch.max(x), x.max()"
      ],
      "metadata": {
        "colab": {
          "base_uri": "https://localhost:8080/"
        },
        "id": "WKG7XITkpS7p",
        "outputId": "88221e7e-96b3-40df-be66-5f89cf76560a"
      },
      "execution_count": 78,
      "outputs": [
        {
          "output_type": "execute_result",
          "data": {
            "text/plain": [
              "(tensor(100), tensor(100))"
            ]
          },
          "metadata": {},
          "execution_count": 78
        }
      ]
    },
    {
      "cell_type": "code",
      "source": [
        "# Find the mean - requires dtype of float or complex \n",
        "torch.mean(x.type(torch.float32)), x.type(torch.float32).mean()\n"
      ],
      "metadata": {
        "colab": {
          "base_uri": "https://localhost:8080/"
        },
        "id": "i1Fd_-vGpbmE",
        "outputId": "cd29679f-7e09-4433-c1aa-078ad4612c6b"
      },
      "execution_count": 82,
      "outputs": [
        {
          "output_type": "execute_result",
          "data": {
            "text/plain": [
              "(tensor(50.), tensor(50.))"
            ]
          },
          "metadata": {},
          "execution_count": 82
        }
      ]
    },
    {
      "cell_type": "code",
      "source": [
        "# Find the sum\n",
        "torch.sum(x), x.sum()"
      ],
      "metadata": {
        "colab": {
          "base_uri": "https://localhost:8080/"
        },
        "id": "syTJoqzJp6I0",
        "outputId": "049e5940-bbfd-4bb9-f8db-d286add0953c"
      },
      "execution_count": 83,
      "outputs": [
        {
          "output_type": "execute_result",
          "data": {
            "text/plain": [
              "(tensor(550.), tensor(550.))"
            ]
          },
          "metadata": {},
          "execution_count": 83
        }
      ]
    },
    {
      "cell_type": "markdown",
      "source": [
        "### Finding the positional min and max"
      ],
      "metadata": {
        "id": "1R4IXxwkqIrq"
      }
    },
    {
      "cell_type": "code",
      "source": [
        "x"
      ],
      "metadata": {
        "id": "DYyD5oEkqKjn"
      },
      "execution_count": null,
      "outputs": []
    },
    {
      "cell_type": "code",
      "source": [
        "# Finds the position (index value) in the tensor that has the minimum value with argmin()\n",
        "x.argmin(), x[0]"
      ],
      "metadata": {
        "colab": {
          "base_uri": "https://localhost:8080/"
        },
        "id": "wIGL-A13qLsl",
        "outputId": "b5beeaf5-8f78-4114-d21f-c97614cecc65"
      },
      "execution_count": 94,
      "outputs": [
        {
          "output_type": "execute_result",
          "data": {
            "text/plain": [
              "(tensor(0), tensor(1))"
            ]
          },
          "metadata": {},
          "execution_count": 94
        }
      ]
    },
    {
      "cell_type": "code",
      "source": [
        "# # Finds the position (index value) in the tensor that has the maximum value with argmin()\n",
        "x.argmax(), x[10]"
      ],
      "metadata": {
        "colab": {
          "base_uri": "https://localhost:8080/"
        },
        "id": "7JPJKJ7WqNjx",
        "outputId": "69f70978-5166-4285-cd6b-b46d5d7a2d0f"
      },
      "execution_count": 96,
      "outputs": [
        {
          "output_type": "execute_result",
          "data": {
            "text/plain": [
              "(tensor(10), tensor(101))"
            ]
          },
          "metadata": {},
          "execution_count": 96
        }
      ]
    },
    {
      "cell_type": "markdown",
      "source": [
        "### Reshaping, stacking, squeezing, and unsqueezing tensors\n",
        "\n",
        "* Reshaping - reshapes an inupt tensor to a defined shape \n",
        "* View - return a view of an input tensor of certain shape but keep the same memory as the original tensor\n",
        "* Stacking - combine multiple tensors by certain  dimension \n",
        "  * e.g. `torch.vstack`, `torch.hstack`\n",
        "* Squeezing - removes all `1` dimensions from a tensor\n",
        "* Unsqueezing - adds a `1` dimension to a target tensor\n",
        "* Permute - Return a view of the input with dimensions permuted (swapped) in a certain way"
      ],
      "metadata": {
        "id": "qFZuaSQBrKwZ"
      }
    },
    {
      "cell_type": "code",
      "source": [
        "# Let's create a tensor\n",
        "import torch \n",
        "x = torch.arange(1., 10.)\n",
        "x, x.shape"
      ],
      "metadata": {
        "colab": {
          "base_uri": "https://localhost:8080/"
        },
        "id": "72ararC5r3aL",
        "outputId": "5b877ae7-4fdc-4d9d-bd3f-adabda9a107d"
      },
      "execution_count": 183,
      "outputs": [
        {
          "output_type": "execute_result",
          "data": {
            "text/plain": [
              "(tensor([1., 2., 3., 4., 5., 6., 7., 8., 9.]), torch.Size([9]))"
            ]
          },
          "metadata": {},
          "execution_count": 183
        }
      ]
    },
    {
      "cell_type": "code",
      "source": [
        "# Add a dimension\n",
        "x_reshaped = x.reshape(1, 9)\n",
        "x_reshaped, x_reshaped.shape"
      ],
      "metadata": {
        "colab": {
          "base_uri": "https://localhost:8080/"
        },
        "id": "pAiWTBY1sAjL",
        "outputId": "2af4a209-148c-4d76-ce49-037530b09759"
      },
      "execution_count": 163,
      "outputs": [
        {
          "output_type": "execute_result",
          "data": {
            "text/plain": [
              "(tensor([[1., 2., 3., 4., 5., 6., 7., 8., 9.]]), torch.Size([1, 9]))"
            ]
          },
          "metadata": {},
          "execution_count": 163
        }
      ]
    },
    {
      "cell_type": "code",
      "source": [
        "# Change the view\n",
        "z = x.view(3, 3)\n",
        "z, z.shape"
      ],
      "metadata": {
        "colab": {
          "base_uri": "https://localhost:8080/"
        },
        "id": "1wQPqPYTwFRu",
        "outputId": "52c65d8b-fcd6-47d2-d501-3083b10818ca"
      },
      "execution_count": 117,
      "outputs": [
        {
          "output_type": "execute_result",
          "data": {
            "text/plain": [
              "(tensor([[1., 2., 3.],\n",
              "         [4., 5., 6.],\n",
              "         [7., 8., 9.]]), torch.Size([3, 3]))"
            ]
          },
          "metadata": {},
          "execution_count": 117
        }
      ]
    },
    {
      "cell_type": "code",
      "source": [
        "# Changing z changes x (because a view of a tensor shares the same memory as the original tensor)\n",
        "z[:, 0] = 5\n",
        "z, x"
      ],
      "metadata": {
        "colab": {
          "base_uri": "https://localhost:8080/"
        },
        "id": "uLYLWYn7wadm",
        "outputId": "db0aeaac-f2af-40b9-a904-d578c5cdaa16"
      },
      "execution_count": 118,
      "outputs": [
        {
          "output_type": "execute_result",
          "data": {
            "text/plain": [
              "(tensor([[5., 2., 3.],\n",
              "         [5., 5., 6.],\n",
              "         [5., 8., 9.]]), tensor([5., 2., 3., 5., 5., 6., 5., 8., 9.]))"
            ]
          },
          "metadata": {},
          "execution_count": 118
        }
      ]
    },
    {
      "cell_type": "code",
      "source": [
        "# Stack tensors on top of each other\n",
        "x_stacked = torch.stack([x, x * -1, x + 1, x * -2], dim=1)\n",
        "x_stacked"
      ],
      "metadata": {
        "colab": {
          "base_uri": "https://localhost:8080/"
        },
        "id": "tcPhL-glwx2s",
        "outputId": "a9462bb4-e1f7-4bad-c40c-41cf4d5cf925"
      },
      "execution_count": 146,
      "outputs": [
        {
          "output_type": "execute_result",
          "data": {
            "text/plain": [
              "tensor([[  1.,  -1.,   2.,  -2.],\n",
              "        [  2.,  -2.,   3.,  -4.],\n",
              "        [  3.,  -3.,   4.,  -6.],\n",
              "        [  4.,  -4.,   5.,  -8.],\n",
              "        [  5.,  -5.,   6., -10.],\n",
              "        [  6.,  -6.,   7., -12.],\n",
              "        [  7.,  -7.,   8., -14.],\n",
              "        [  8.,  -8.,   9., -16.],\n",
              "        [  9.,  -9.,  10., -18.]])"
            ]
          },
          "metadata": {},
          "execution_count": 146
        }
      ]
    },
    {
      "cell_type": "code",
      "source": [
        "# Try using torch.vstack - seems easier to use vstack since the `dim=0` is unnecessary\n",
        "x_vstack = torch.vstack([x, x * -1, x + 1, x * -2])\n",
        "x_vstack"
      ],
      "metadata": {
        "colab": {
          "base_uri": "https://localhost:8080/"
        },
        "id": "bph_xrklxC0v",
        "outputId": "0debb15a-2d3a-4cc1-95c2-e690fdcc4f73"
      },
      "execution_count": 148,
      "outputs": [
        {
          "output_type": "execute_result",
          "data": {
            "text/plain": [
              "tensor([[  1.,   2.,   3.,   4.,   5.,   6.,   7.,   8.,   9.],\n",
              "        [ -1.,  -2.,  -3.,  -4.,  -5.,  -6.,  -7.,  -8.,  -9.],\n",
              "        [  2.,   3.,   4.,   5.,   6.,   7.,   8.,   9.,  10.],\n",
              "        [ -2.,  -4.,  -6.,  -8., -10., -12., -14., -16., -18.]])"
            ]
          },
          "metadata": {},
          "execution_count": 148
        }
      ]
    },
    {
      "cell_type": "code",
      "source": [
        "# Try using torch.hstack - does not seem to be as simple/easy a s using torch.stack with `dim=1`\n",
        "x_hstack = torch.hstack((x, x * -1, x))\n",
        "x_hstack"
      ],
      "metadata": {
        "colab": {
          "base_uri": "https://localhost:8080/"
        },
        "id": "rx9dATN_xKQV",
        "outputId": "dbd5c72b-d390-4599-ae45-c819b58af666"
      },
      "execution_count": 144,
      "outputs": [
        {
          "output_type": "execute_result",
          "data": {
            "text/plain": [
              "tensor([ 1.,  2.,  3.,  4.,  5.,  6.,  7.,  8.,  9., -1., -2., -3., -4., -5.,\n",
              "        -6., -7., -8., -9.,  1.,  2.,  3.,  4.,  5.,  6.,  7.,  8.,  9.])"
            ]
          },
          "metadata": {},
          "execution_count": 144
        }
      ]
    },
    {
      "cell_type": "code",
      "source": [
        "# Try torch.squeeze() -removes all single dimensions from a target tensor\n",
        "print(f\"Previous tensor: {x_reshaped}\")\n",
        "print(f\"Previous shape: {x_reshaped.shape}\")\n",
        "\n",
        "# Remove extra dimensions from x_reshaped\n",
        "x_squeezed = x_reshaped.squeeze()\n",
        "print(f\"New tensor: {x_squeezed}\")\n",
        "print(f\"New shape: {x_squeezed.shape}\")"
      ],
      "metadata": {
        "colab": {
          "base_uri": "https://localhost:8080/"
        },
        "id": "DqSrCxkXzhgW",
        "outputId": "d6e11cd1-3373-4273-8103-b145055c0270"
      },
      "execution_count": 164,
      "outputs": [
        {
          "output_type": "stream",
          "name": "stdout",
          "text": [
            "Previous tensor: tensor([[1., 2., 3., 4., 5., 6., 7., 8., 9.]])\n",
            "Previous shape: torch.Size([1, 9])\n",
            "New tensor: tensor([1., 2., 3., 4., 5., 6., 7., 8., 9.])\n",
            "New shape: torch.Size([9])\n"
          ]
        }
      ]
    },
    {
      "cell_type": "code",
      "source": [
        "# Try torch.unsqueeze() - adds a single dimensions to a target tensor at a specific dim\n",
        "print(f\"Previous target: {x_squeezed}\")\n",
        "print(f\"Previous shape: {x_squeezed.shape}\")\n",
        "\n",
        "# Add an extra dimensions with unsqueeze on the 0th dim\n",
        "x_unsqueezed = x_squeezed.unsqueeze(dim=0)\n",
        "print(f\"New target: {x_unsqueezed}\")\n",
        "print(f\"New shape: {x_unsqueezed.shape}\")"
      ],
      "metadata": {
        "colab": {
          "base_uri": "https://localhost:8080/"
        },
        "id": "53bMlG5Yz0DE",
        "outputId": "94121045-27d4-4c7c-8d29-86516745519e"
      },
      "execution_count": 168,
      "outputs": [
        {
          "output_type": "stream",
          "name": "stdout",
          "text": [
            "Previous target: tensor([1., 2., 3., 4., 5., 6., 7., 8., 9.])\n",
            "Previous shape: torch.Size([9])\n",
            "New target: tensor([[1., 2., 3., 4., 5., 6., 7., 8., 9.]])\n",
            "New shape: torch.Size([1, 9])\n"
          ]
        }
      ]
    },
    {
      "cell_type": "code",
      "source": [
        "# Try torch.permute - rearranges the dims of a target tensor in a specific order\n",
        "x_original = torch.rand(size=(224, 224, 3)) # [height, width, colour_channels]\n",
        "\n",
        "# Permute the original tensor to rearrange the axis (or dim) order\n",
        "x_permuted = x_original.permute(2, 0, 1) # shifts the colour_channel to the first (0th) dimension\n",
        "\n",
        "print(f\"Original shape: {x_original.shape}\")\n",
        "print(f\"New shape: {x_permuted.shape}\")"
      ],
      "metadata": {
        "colab": {
          "base_uri": "https://localhost:8080/"
        },
        "id": "OjI4PxPr2QCx",
        "outputId": "16fc5a2f-37c1-4c49-934d-798fbd497c62"
      },
      "execution_count": 173,
      "outputs": [
        {
          "output_type": "stream",
          "name": "stdout",
          "text": [
            "Original shape: torch.Size([224, 224, 3])\n",
            "New shape: torch.Size([3, 224, 224])\n"
          ]
        }
      ]
    },
    {
      "cell_type": "code",
      "source": [
        "x_original[0, 0, 0] = 1234\n",
        "print(f\"New value in original is {x_original[0, 0, 0]}\")\n",
        "print(f\"New value in permuted is {x_permuted[0, 0, 0]}\")"
      ],
      "metadata": {
        "colab": {
          "base_uri": "https://localhost:8080/"
        },
        "id": "5V6YSBM025QN",
        "outputId": "64111490-1c7b-48b1-fe7c-15fe850d37dd"
      },
      "execution_count": 186,
      "outputs": [
        {
          "output_type": "stream",
          "name": "stdout",
          "text": [
            "Original value is 1.0\n",
            "New value in original is 1234.0\n",
            "New value in permuted is 1234.0\n"
          ]
        }
      ]
    },
    {
      "cell_type": "markdown",
      "source": [
        "### Indexing (selecting data from tensors)\n",
        "\n",
        "Indexing with PyTorch is similar to indexing with NumPy"
      ],
      "metadata": {
        "id": "bbInx44P3Ok4"
      }
    },
    {
      "cell_type": "code",
      "source": [
        "# Create a tensor\n",
        "import torch\n",
        "x = torch.arange(1, 10).reshape(1, 3, 3)\n",
        "x, x.shape"
      ],
      "metadata": {
        "colab": {
          "base_uri": "https://localhost:8080/"
        },
        "id": "tFsbwFij5aJv",
        "outputId": "911fc96f-aee0-42f0-ef87-3b34e05148a1"
      },
      "execution_count": 187,
      "outputs": [
        {
          "output_type": "execute_result",
          "data": {
            "text/plain": [
              "(tensor([[[1, 2, 3],\n",
              "          [4, 5, 6],\n",
              "          [7, 8, 9]]]), torch.Size([1, 3, 3]))"
            ]
          },
          "metadata": {},
          "execution_count": 187
        }
      ]
    },
    {
      "cell_type": "code",
      "source": [
        "# Let's index on our new tensor\n",
        "x[0]"
      ],
      "metadata": {
        "colab": {
          "base_uri": "https://localhost:8080/"
        },
        "id": "h4ZEkNFy5ntE",
        "outputId": "0045149a-4289-486c-ceb0-ceece975c998"
      },
      "execution_count": 188,
      "outputs": [
        {
          "output_type": "execute_result",
          "data": {
            "text/plain": [
              "tensor([[1, 2, 3],\n",
              "        [4, 5, 6],\n",
              "        [7, 8, 9]])"
            ]
          },
          "metadata": {},
          "execution_count": 188
        }
      ]
    },
    {
      "cell_type": "code",
      "source": [
        "# Index on the middle bracket (dim=1)\n",
        "x[0, 2]"
      ],
      "metadata": {
        "colab": {
          "base_uri": "https://localhost:8080/"
        },
        "id": "BVXR2s-v517X",
        "outputId": "e8703d0e-a9e0-4e9c-c2d0-958cf03b53d0"
      },
      "execution_count": 198,
      "outputs": [
        {
          "output_type": "execute_result",
          "data": {
            "text/plain": [
              "tensor([7, 8, 9])"
            ]
          },
          "metadata": {},
          "execution_count": 198
        }
      ]
    },
    {
      "cell_type": "code",
      "source": [
        "# Index in the innermost bracket [ last dimensions ]\n",
        "\n",
        "x[0, 2, 2]"
      ],
      "metadata": {
        "colab": {
          "base_uri": "https://localhost:8080/"
        },
        "id": "aYD3pvYs6ESX",
        "outputId": "e8523c09-5c0b-4202-999d-d1bbdf79e8d4"
      },
      "execution_count": 197,
      "outputs": [
        {
          "output_type": "execute_result",
          "data": {
            "text/plain": [
              "tensor(9)"
            ]
          },
          "metadata": {},
          "execution_count": 197
        }
      ]
    },
    {
      "cell_type": "code",
      "source": [
        "# You can also use \":\" to selecet \"all of a target dimensions\n",
        "x[:, 0]"
      ],
      "metadata": {
        "colab": {
          "base_uri": "https://localhost:8080/"
        },
        "id": "QvU6km-J6K75",
        "outputId": "23240007-e8bd-4160-cf6b-f9bb8b4d5f25"
      },
      "execution_count": 200,
      "outputs": [
        {
          "output_type": "execute_result",
          "data": {
            "text/plain": [
              "tensor([[1, 2, 3]])"
            ]
          },
          "metadata": {},
          "execution_count": 200
        }
      ]
    },
    {
      "cell_type": "code",
      "source": [
        "# Get all values of 0th and 1st dimensions but only index  1 of 2nd dimension\n",
        "x[:, 1, :]"
      ],
      "metadata": {
        "colab": {
          "base_uri": "https://localhost:8080/"
        },
        "id": "aaaqeXPv6m9c",
        "outputId": "b7873703-f411-4809-835c-86a6aa4a6de2"
      },
      "execution_count": 205,
      "outputs": [
        {
          "output_type": "execute_result",
          "data": {
            "text/plain": [
              "tensor([[4, 5, 6]])"
            ]
          },
          "metadata": {},
          "execution_count": 205
        }
      ]
    },
    {
      "cell_type": "markdown",
      "source": [
        "## PyTorch tensors & Numpy\n",
        "\n",
        "NumPy is a popular scientific Python numerical computing library.\n",
        "PyTorch has functionality to interact with it\n",
        "* Data in NumPy, but you want it in a PyTorch tensor -> `torch.from_numpy(ndarray)`\n",
        "* From PyTorch tensor to NumPy array -> `torch.Tensor.numpy()`"
      ],
      "metadata": {
        "id": "hXjm8qZR64lW"
      }
    },
    {
      "cell_type": "code",
      "source": [
        "# NumPy array to tensor\n",
        "import torch\n",
        "import numpy as np\n",
        "\n",
        "# numpy's default datatype is float64, but tensor's default datatype is float32\n",
        "array = np.arange(1.0, 8.0)\n",
        "tensor = torch.from_numpy(array).type(torch.float32) # use .type method to change to float32 as needed\n",
        "array, tensor"
      ],
      "metadata": {
        "colab": {
          "base_uri": "https://localhost:8080/"
        },
        "id": "dslcSxjf7qoO",
        "outputId": "ada87e71-62c9-4caf-c650-7a9db8d6c4a2"
      },
      "execution_count": 220,
      "outputs": [
        {
          "output_type": "execute_result",
          "data": {
            "text/plain": [
              "(array([1., 2., 3., 4., 5., 6., 7.]), tensor([1., 2., 3., 4., 5., 6., 7.]))"
            ]
          },
          "metadata": {},
          "execution_count": 220
        }
      ]
    },
    {
      "cell_type": "code",
      "source": [
        "# Change the value of array, and what will this do to `tensor`?\n",
        "array = array + 1\n",
        "\n",
        "array, tensor"
      ],
      "metadata": {
        "colab": {
          "base_uri": "https://localhost:8080/"
        },
        "id": "mrWYeAXp-RDr",
        "outputId": "3784990c-c4c6-47ee-fa2f-c67f054caceb"
      },
      "execution_count": 221,
      "outputs": [
        {
          "output_type": "execute_result",
          "data": {
            "text/plain": [
              "(array([2., 3., 4., 5., 6., 7., 8.]), tensor([1., 2., 3., 4., 5., 6., 7.]))"
            ]
          },
          "metadata": {},
          "execution_count": 221
        }
      ]
    },
    {
      "cell_type": "code",
      "source": [
        "# Tensor to NumPy array\n",
        "tensor = torch.ones(7)\n",
        "numpy_tensor = tensor.numpy()\n",
        "tensor, numpy_tensor"
      ],
      "metadata": {
        "colab": {
          "base_uri": "https://localhost:8080/"
        },
        "id": "gaRJcMSu-kMK",
        "outputId": "bc6c5cdb-96dd-457b-ad5d-5e550b53ff5c"
      },
      "execution_count": 222,
      "outputs": [
        {
          "output_type": "execute_result",
          "data": {
            "text/plain": [
              "(tensor([1., 1., 1., 1., 1., 1., 1.]),\n",
              " array([1., 1., 1., 1., 1., 1., 1.], dtype=float32))"
            ]
          },
          "metadata": {},
          "execution_count": 222
        }
      ]
    },
    {
      "cell_type": "code",
      "source": [
        "# Change the tensor, and what happens to `numpy_tensor`?\n",
        "tensor = tensor + 1\n",
        "tensor, numpy_tensor"
      ],
      "metadata": {
        "colab": {
          "base_uri": "https://localhost:8080/"
        },
        "id": "xZLKI1jH-vd4",
        "outputId": "54c643c3-255b-44a3-b948-91c1ce0808f6"
      },
      "execution_count": 223,
      "outputs": [
        {
          "output_type": "execute_result",
          "data": {
            "text/plain": [
              "(tensor([2., 2., 2., 2., 2., 2., 2.]),\n",
              " array([1., 1., 1., 1., 1., 1., 1.], dtype=float32))"
            ]
          },
          "metadata": {},
          "execution_count": 223
        }
      ]
    },
    {
      "cell_type": "markdown",
      "source": [
        "## Reproducibility ( taking the randomness out of random )\n",
        "\n",
        "How does a neural network learn?\n",
        "\n",
        "`start with random numbers -> tensor operations -> update the random numbers to try and make them better represent the data -> rinse -> repeat`\n",
        "\n",
        "To reduce the randomness, PyTorch comes with the concept of a **random seed**.\n",
        "Essentially what the random seed does is \"flavour\" the randomness\n",
        "\n",
        "https://pytorch.org/docs/stable/notes/randomness.html"
      ],
      "metadata": {
        "id": "u2VantIQ--3K"
      }
    },
    {
      "cell_type": "code",
      "source": [
        "import torch\n",
        "\n",
        "# Create two random tensors\n",
        "\n",
        "random_tensor_a = torch.rand(3, 4)\n",
        "random_tensor_b = torch.rand(3, 4)\n",
        "\n",
        "print(random_tensor_a)\n",
        "print(random_tensor_b)\n",
        "print(random_tensor_a == random_tensor_b)"
      ],
      "metadata": {
        "colab": {
          "base_uri": "https://localhost:8080/"
        },
        "id": "id-E9349_UfA",
        "outputId": "8f393c09-94e6-4db3-caa3-1998c96acb47"
      },
      "execution_count": 228,
      "outputs": [
        {
          "output_type": "stream",
          "name": "stdout",
          "text": [
            "tensor([[0.2719, 0.4632, 0.7671, 0.5024],\n",
            "        [0.1025, 0.7600, 0.8035, 0.7653],\n",
            "        [0.8709, 0.7231, 0.8364, 0.5820]])\n",
            "tensor([[0.8395, 0.0595, 0.4315, 0.4425],\n",
            "        [0.2622, 0.6301, 0.8775, 0.1626],\n",
            "        [0.2438, 0.3382, 0.8847, 0.0763]])\n",
            "tensor([[False, False, False, False],\n",
            "        [False, False, False, False],\n",
            "        [False, False, False, False]])\n"
          ]
        }
      ]
    },
    {
      "cell_type": "code",
      "source": [
        "# Create random but reproducible tensors by using a random seed\n",
        "\n",
        "import torch\n",
        "\n",
        "# Set the random seed\n",
        "RANDOM_SEED = 11\n",
        "\n",
        "torch.manual_seed(RANDOM_SEED) # must use the seed for each random generation\n",
        "random_tensor_c = torch.rand(3,4)\n",
        "\n",
        "torch.manual_seed(RANDOM_SEED) # must use the seed for each random generation\n",
        "random_tensor_d = torch.rand(3,4)\n",
        "\n",
        "print(random_tensor_c)\n",
        "print(random_tensor_d)\n",
        "print(random_tensor_c == random_tensor_d)"
      ],
      "metadata": {
        "colab": {
          "base_uri": "https://localhost:8080/"
        },
        "id": "fQHlhvyeAJVS",
        "outputId": "411c0410-78e6-4cae-84a3-573e81b4332c"
      },
      "execution_count": 227,
      "outputs": [
        {
          "output_type": "stream",
          "name": "stdout",
          "text": [
            "tensor([[0.1490, 0.4866, 0.9857, 0.1684],\n",
            "        [0.5839, 0.6936, 0.5831, 0.1284],\n",
            "        [0.5721, 0.9248, 0.2693, 0.7825]])\n",
            "tensor([[0.1490, 0.4866, 0.9857, 0.1684],\n",
            "        [0.5839, 0.6936, 0.5831, 0.1284],\n",
            "        [0.5721, 0.9248, 0.2693, 0.7825]])\n",
            "tensor([[True, True, True, True],\n",
            "        [True, True, True, True],\n",
            "        [True, True, True, True]])\n"
          ]
        }
      ]
    },
    {
      "cell_type": "markdown",
      "source": [
        "## Running tensors and PyTorch objects on the GPUs makes things go fast\n",
        "\n",
        "GPUs are cool"
      ],
      "metadata": {
        "id": "rjNYSzgoDRFb"
      }
    },
    {
      "cell_type": "markdown",
      "source": [
        "from abc import update_abstractmethods\n",
        "### 1. Getting a GPU\n",
        "1. Easiest - Use Google Colab to use a GPU for free (or use Pro for even better GPUs)\n",
        "2. Use your own GPU - takes some money and some time to set up\n",
        "3. Use cloud computing - GCP, AWS, Azure, etc, allows you to rent computers on the cloud"
      ],
      "metadata": {
        "id": "ewAcQJ__DX_b"
      }
    },
    {
      "cell_type": "markdown",
      "source": [
        "### 2. Check for GPU access with PyTorch\n",
        "\n",
        "It is recommended to set up agnostic code. \n",
        "Here are some best practices: https://pytorch.org/docs/stable/notes/cuda.html#best-practices"
      ],
      "metadata": {
        "id": "fHrgYj8GEB1k"
      }
    },
    {
      "cell_type": "code",
      "source": [
        "# Check GPU access\n",
        "import torch\n",
        "torch.cuda.is_available()"
      ],
      "metadata": {
        "colab": {
          "base_uri": "https://localhost:8080/"
        },
        "id": "eleMJVa5EEDs",
        "outputId": "51d5d4a6-f4db-489c-cebc-037440944d43"
      },
      "execution_count": 229,
      "outputs": [
        {
          "output_type": "execute_result",
          "data": {
            "text/plain": [
              "False"
            ]
          },
          "metadata": {},
          "execution_count": 229
        }
      ]
    },
    {
      "cell_type": "code",
      "source": [
        "# Setup device agnostic code\n",
        "device = \"cuda\" if torch.cuda.is_available() else \"cpu\"\n",
        "device"
      ],
      "metadata": {
        "colab": {
          "base_uri": "https://localhost:8080/",
          "height": 35
        },
        "id": "ps4HExdwEOKC",
        "outputId": "59400aae-2df0-416a-8aa5-480c334e18a3"
      },
      "execution_count": 4,
      "outputs": [
        {
          "output_type": "execute_result",
          "data": {
            "text/plain": [
              "'cuda'"
            ],
            "application/vnd.google.colaboratory.intrinsic+json": {
              "type": "string"
            }
          },
          "metadata": {},
          "execution_count": 4
        }
      ]
    },
    {
      "cell_type": "code",
      "source": [
        "# Count number of devices - useful for when you are running models on specific cuda devices and more.\n",
        "torch.cuda.device_count()"
      ],
      "metadata": {
        "colab": {
          "base_uri": "https://localhost:8080/"
        },
        "id": "zz6OVYgAEeUs",
        "outputId": "46bdf47a-40b1-4c3b-efbe-b1b6f1b95ad9"
      },
      "execution_count": 231,
      "outputs": [
        {
          "output_type": "execute_result",
          "data": {
            "text/plain": [
              "0"
            ]
          },
          "metadata": {},
          "execution_count": 231
        }
      ]
    },
    {
      "cell_type": "markdown",
      "source": [
        "### 3. Putting tensors and models on the GPUs\n",
        "\n",
        "GPUs make things go brr"
      ],
      "metadata": {
        "id": "ruYTWL0pFB51"
      }
    },
    {
      "cell_type": "code",
      "source": [
        "# Create tensor (defaul is on cpu)\n",
        "import torch\n",
        "tensor = torch.tensor([1, 2 , 3], device=None)\n",
        "\n",
        "# Tensor not on GPU\n",
        "print(tensor, tensor.device)"
      ],
      "metadata": {
        "colab": {
          "base_uri": "https://localhost:8080/"
        },
        "id": "sx3ph3-KFHBq",
        "outputId": "809564f2-4a62-4d0e-f4b4-0ad9db0531ea"
      },
      "execution_count": 2,
      "outputs": [
        {
          "output_type": "stream",
          "name": "stdout",
          "text": [
            "tensor([1, 2, 3]) cpu\n"
          ]
        }
      ]
    },
    {
      "cell_type": "code",
      "source": [
        "# Tensor using device agnostic code to move the tensor to GPU if available\n",
        "device = \"cuda\" if torch.cuda.is_available() else \"cpu\" # copied from above so this is runnable in the same code block\n",
        "\n",
        "tensor_on_gpu = tensor.to(device) # .to() to move tensor to device\n",
        "tensor_on_gpu"
      ],
      "metadata": {
        "colab": {
          "base_uri": "https://localhost:8080/"
        },
        "id": "Ig-u7lARFZHU",
        "outputId": "202134b7-af95-4ec9-b393-16dad6fc54d1"
      },
      "execution_count": 5,
      "outputs": [
        {
          "output_type": "execute_result",
          "data": {
            "text/plain": [
              "tensor([1, 2, 3], device='cuda:0')"
            ]
          },
          "metadata": {},
          "execution_count": 5
        }
      ]
    },
    {
      "cell_type": "markdown",
      "source": [
        "### 4. Moving tensors back to CPU"
      ],
      "metadata": {
        "id": "-5LOBprQF59a"
      }
    },
    {
      "cell_type": "code",
      "source": [
        "# If tensor is on GPU, unable to transform it to NumPy so move tensor back to CPU \n",
        "\n",
        "tensor_on_gpu.cpu().numpy() # .cpu() is same as .to(\"cpu\")"
      ],
      "metadata": {
        "colab": {
          "base_uri": "https://localhost:8080/"
        },
        "id": "lAFmlp59F9Pr",
        "outputId": "cb82bcf9-0817-4e3f-b53c-668a4caf47ca"
      },
      "execution_count": 10,
      "outputs": [
        {
          "output_type": "execute_result",
          "data": {
            "text/plain": [
              "array([1, 2, 3])"
            ]
          },
          "metadata": {},
          "execution_count": 10
        }
      ]
    },
    {
      "cell_type": "markdown",
      "source": [
        "## Exercies\n",
        "\n",
        "Source: https://www.learnpytorch.io/00_pytorch_fundamentals/#exercises"
      ],
      "metadata": {
        "id": "NmSUFE4bG9Ij"
      }
    },
    {
      "cell_type": "code",
      "source": [
        "# Set up environment\n",
        "import torch\n",
        "import numpy as np"
      ],
      "metadata": {
        "id": "Gv6rZV15HSOZ"
      },
      "execution_count": 19,
      "outputs": []
    },
    {
      "cell_type": "code",
      "source": [
        "# 2. Create a random tensor with shape (7, 7)\n",
        "\n",
        "random_tensor_2 = torch.rand(7, 7)\n",
        "random_tensor_2"
      ],
      "metadata": {
        "colab": {
          "base_uri": "https://localhost:8080/"
        },
        "id": "lL13c251HAhx",
        "outputId": "8a0ba2e4-9496-43a6-e981-990a8dbe00d3"
      },
      "execution_count": 20,
      "outputs": [
        {
          "output_type": "execute_result",
          "data": {
            "text/plain": [
              "tensor([[0.5209, 0.5932, 0.8797, 0.6286, 0.7653, 0.1132, 0.8559],\n",
              "        [0.6721, 0.6267, 0.5691, 0.7437, 0.9592, 0.3887, 0.2214],\n",
              "        [0.3742, 0.1953, 0.7405, 0.2529, 0.2332, 0.9314, 0.9575],\n",
              "        [0.5575, 0.4134, 0.4355, 0.7369, 0.0331, 0.0914, 0.8994],\n",
              "        [0.9936, 0.4703, 0.1049, 0.5137, 0.2674, 0.4990, 0.7447],\n",
              "        [0.7213, 0.4414, 0.5550, 0.6361, 0.1081, 0.3305, 0.5196],\n",
              "        [0.2147, 0.2816, 0.6679, 0.7878, 0.5070, 0.3055, 0.7738]])"
            ]
          },
          "metadata": {},
          "execution_count": 20
        }
      ]
    },
    {
      "cell_type": "code",
      "source": [
        "# 3. Perform a matrix multiplication on the tensor from 2 with another random tensor with shape (1, 7) \n",
        "#    (hint: you may have to transpose the second tensor).\n",
        "\n",
        "random_tensor_3 = torch.rand(1, 7).T\n",
        "\n",
        "answer_tensor = torch.matmul(random_tensor_2, random_tensor_3)\n",
        "answer_tensor"
      ],
      "metadata": {
        "colab": {
          "base_uri": "https://localhost:8080/"
        },
        "id": "jgAX9rgBHgWj",
        "outputId": "df962f2d-79fd-4432-dbec-78f32cf8fc51"
      },
      "execution_count": 26,
      "outputs": [
        {
          "output_type": "execute_result",
          "data": {
            "text/plain": [
              "tensor([[1.3770],\n",
              "        [1.3179],\n",
              "        [1.7218],\n",
              "        [1.0046],\n",
              "        [1.0905],\n",
              "        [1.1290],\n",
              "        [1.3568]])"
            ]
          },
          "metadata": {},
          "execution_count": 26
        }
      ]
    },
    {
      "cell_type": "code",
      "source": [
        "# 4. Set the random seed to 0 and do exercises 2 & 3 over again.\n",
        "\n",
        "torch.manual_seed(seed=0)\n",
        "random_tensor_2 = torch.rand(7, 7)\n",
        "random_tensor_3 = torch.rand(1, 7).T\n",
        "\n",
        "answer_tensor = torch.matmul(random_tensor_2, random_tensor_3)\n",
        "answer_tensor"
      ],
      "metadata": {
        "colab": {
          "base_uri": "https://localhost:8080/"
        },
        "id": "6taVW_zCIsjq",
        "outputId": "85e2ed21-9f77-4e05-8f53-2e7a31bba23f"
      },
      "execution_count": 32,
      "outputs": [
        {
          "output_type": "execute_result",
          "data": {
            "text/plain": [
              "tensor([[1.8542],\n",
              "        [1.9611],\n",
              "        [2.2884],\n",
              "        [3.0481],\n",
              "        [1.7067],\n",
              "        [2.5290],\n",
              "        [1.7989]])"
            ]
          },
          "metadata": {},
          "execution_count": 32
        }
      ]
    },
    {
      "cell_type": "code",
      "source": [
        "# 5. Speaking of random seeds, we saw how to set it with torch.manual_seed() but is there a GPU equivalent? \n",
        "#    (hint: you'll need to look into the documentation for torch.cuda for this one). If there is, set the GPU random seed to 1234.\n",
        "\n",
        "torch.cuda.manual_seed(seed=1234)"
      ],
      "metadata": {
        "id": "x6WyBEqxJJGz"
      },
      "execution_count": 33,
      "outputs": []
    },
    {
      "cell_type": "code",
      "source": [
        "# 6. Create two random tensors of shape (2, 3) and send them both to the GPU (you'll need access to a GPU for this). Set torch.manual_seed(1234) \n",
        "\n",
        "torch.manual_seed(seed=11)\n",
        "random_tensor_A = torch.rand(2, 3)\n",
        "\n",
        "torch.manual_seed(seed=11)\n",
        "random_tensor_B = torch.rand(2, 3)\n"
      ],
      "metadata": {
        "id": "ZWcAEPLDYh5h"
      },
      "execution_count": 6,
      "outputs": []
    },
    {
      "cell_type": "code",
      "source": [
        "# 7. Perform a matrix multiplication on the tensors you created in 6 \n",
        "\n",
        "torch.manual_seed(seed=0)\n",
        "dot_of_A_B = torch.matmul(random_tensor_A, random_tensor_B.T)\n",
        "dot_of_A_B"
      ],
      "metadata": {
        "colab": {
          "base_uri": "https://localhost:8080/"
        },
        "id": "jwURGgmjZCAC",
        "outputId": "981a5395-80c8-4c17-a14a-b27610fba4d2"
      },
      "execution_count": 41,
      "outputs": [
        {
          "output_type": "execute_result",
          "data": {
            "text/plain": [
              "tensor([[1.2305, 0.9929],\n",
              "        [0.9929, 0.8504]])"
            ]
          },
          "metadata": {},
          "execution_count": 41
        }
      ]
    },
    {
      "cell_type": "code",
      "source": [
        "# 8. Find the maximum and minimum values of the output of 7.\n",
        "\n",
        "print(f\"Maximum: {dot_of_A_B.max()}\")\n",
        "print(f\"Minimum: {dot_of_A_B.min()}\")"
      ],
      "metadata": {
        "colab": {
          "base_uri": "https://localhost:8080/"
        },
        "id": "-vsl71VNZQDD",
        "outputId": "ef4ff6da-fe6e-4482-97b3-d5a741f8ddca"
      },
      "execution_count": 12,
      "outputs": [
        {
          "output_type": "stream",
          "name": "stdout",
          "text": [
            "Maximum: 1.0773606300354004\n",
            "Minimum: 0.6613529324531555\n"
          ]
        }
      ]
    },
    {
      "cell_type": "code",
      "source": [
        "# 9. Find the maximum and minimum index values of the output of 7.\n",
        "\n",
        "print(f\"Index of Maximum: {dot_of_A_B.argmax()}\")\n",
        "print(f\"Index of Minimum: {dot_of_A_B.argmin()}\")"
      ],
      "metadata": {
        "colab": {
          "base_uri": "https://localhost:8080/"
        },
        "id": "uR-uNhHVZTGZ",
        "outputId": "207b0248-ab55-49bc-fc83-eebc3e624d04"
      },
      "execution_count": 13,
      "outputs": [
        {
          "output_type": "stream",
          "name": "stdout",
          "text": [
            "Index of Maximum: 0\n",
            "Index of Minimum: 3\n"
          ]
        }
      ]
    },
    {
      "cell_type": "code",
      "source": [
        "# 10. Make a random tensor with shape (1, 1, 1, 10) and then create a new tensor with all the 1 dimensions removed to be left with a tensor of shape (10). \n",
        "#     Set the seed to 7 when you create it and print out the first tensor and it's shape as well as the second tensor and it's shape.\n",
        "\n",
        "torch.manual_seed(seed=7)\n",
        "random_tensor = torch.rand(1, 1, 1, 10)\n",
        "squeezed_tensor = random_tensor.squeeze()\n",
        "\n",
        "print(f\"First tensor: {random_tensor}\")\n",
        "print(f\"First tensor shape: {random_tensor.shape}\")\n",
        "print(f\"Second tensor: {squeezed_tensor}\")\n",
        "print(f\"Second tensor shape: {squeezed_tensor.shape}\")"
      ],
      "metadata": {
        "colab": {
          "base_uri": "https://localhost:8080/"
        },
        "id": "FbP0-gKWZyiV",
        "outputId": "e85071bd-b34c-42ba-e8ab-a2847137208b"
      },
      "execution_count": 16,
      "outputs": [
        {
          "output_type": "stream",
          "name": "stdout",
          "text": [
            "First tensor: tensor([[[[0.5349, 0.1988, 0.6592, 0.6569, 0.2328, 0.4251, 0.2071, 0.6297,\n",
            "           0.3653, 0.8513]]]])\n",
            "First tensor shape: torch.Size([1, 1, 1, 10])\n",
            "Second tensor: tensor([0.5349, 0.1988, 0.6592, 0.6569, 0.2328, 0.4251, 0.2071, 0.6297, 0.3653,\n",
            "        0.8513])\n",
            "Second tensor shape: torch.Size([10])\n"
          ]
        }
      ]
    }
  ]
}