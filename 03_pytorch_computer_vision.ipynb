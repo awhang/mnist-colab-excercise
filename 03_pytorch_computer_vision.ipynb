{
  "nbformat": 4,
  "nbformat_minor": 0,
  "metadata": {
    "colab": {
      "provenance": [],
      "toc_visible": true,
      "authorship_tag": "ABX9TyPhbWUJet+c96tr0Z0gSjG2",
      "include_colab_link": true
    },
    "kernelspec": {
      "name": "python3",
      "display_name": "Python 3"
    },
    "language_info": {
      "name": "python"
    }
  },
  "cells": [
    {
      "cell_type": "markdown",
      "metadata": {
        "id": "view-in-github",
        "colab_type": "text"
      },
      "source": [
        "<a href=\"https://colab.research.google.com/github/awhang/pytorch_fundamentals/blob/main/03_pytorch_computer_vision.ipynb\" target=\"_parent\"><img src=\"https://colab.research.google.com/assets/colab-badge.svg\" alt=\"Open In Colab\"/></a>"
      ]
    },
    {
      "cell_type": "markdown",
      "source": [
        "# PyTorch Computer Vision\n",
        "\n",
        "## What is a computer vision problem?\n",
        "\n",
        "Binary classification\n",
        "Multiclass classification\n",
        "Object detection\n",
        "Segmentation\n",
        "\n",
        "What we'll do below:\n",
        "- Getting a vision dataset to work with from torchvision.datasets\n",
        "- Architecture of a convolutional neural network (CNN) with PyTorch\n",
        "- End-toend multi-class image classification problem\n",
        "- Steps in moddelling with CNNs in PyTorch\n",
        "  - Creating a CNN model\n",
        "  - Picking a loss and optimizer\n",
        "  - Training and testing the model\n",
        "  - Evaluate the model"
      ],
      "metadata": {
        "id": "VqT3N0SN3fl8"
      }
    },
    {
      "cell_type": "markdown",
      "source": [
        "## 0. Computer vision libraries in PyTorch\n",
        "* `torchvision` base domain library for PyTorch computer vision\n",
        "* `torchvision.datasets` - get data sets and data loading functions\n",
        "* `torchvision.models` - get pretrained computer vision models that you can leverage for your own problems\n",
        "* `torchvision.transforms` - functions for manipulating vision data (images) to be suitable for use with an ML model\n",
        "* `torch.utils.data.Dataset` - base dataset class for PyTorch\n",
        "* `torch.utils.data.Dataloader` - creates a Python iterable over a dataset"
      ],
      "metadata": {
        "id": "OUqnffnx3n_U"
      }
    },
    {
      "cell_type": "code",
      "source": [
        "# Import PyTorch\n",
        "import torch\n",
        "from torch import nn\n",
        "\n",
        "# Import torchvision\n",
        "import torchvision\n",
        "from torchvision import datasets, transforms\n",
        "from torchvision.transforms import ToTensor\n",
        "\n",
        "# Import matplotlib for visualization\n",
        "import matplotlib.pyplot as plt\n",
        "\n",
        "# Check versions\n",
        "print(torch.__version__)\n",
        "print(torchvision.__version__)"
      ],
      "metadata": {
        "colab": {
          "base_uri": "https://localhost:8080/"
        },
        "id": "Mn91AjDE4PHb",
        "outputId": "e9cd7008-1930-4bd7-c1d5-e203718ecd99"
      },
      "execution_count": 1,
      "outputs": [
        {
          "output_type": "stream",
          "name": "stdout",
          "text": [
            "1.12.1+cu113\n",
            "0.13.1+cu113\n"
          ]
        }
      ]
    },
    {
      "cell_type": "code",
      "source": [],
      "metadata": {
        "id": "kQLBIyOyveJZ"
      },
      "execution_count": null,
      "outputs": []
    }
  ]
}